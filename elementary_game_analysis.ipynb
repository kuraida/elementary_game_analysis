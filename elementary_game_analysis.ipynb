{
 "metadata": {
  "language_info": {
   "codemirror_mode": {
    "name": "ipython",
    "version": 3
   },
   "file_extension": ".py",
   "mimetype": "text/x-python",
   "name": "python",
   "nbconvert_exporter": "python",
   "pygments_lexer": "ipython3",
   "version": "3.8.5-final"
  },
  "orig_nbformat": 2,
  "kernelspec": {
   "name": "python3",
   "display_name": "Python 3.8.5 64-bit ('elementary_game_analysis': conda)",
   "metadata": {
    "interpreter": {
     "hash": "479da91ca6187846651a657f79705f7dccf6760f133b67dae14e227c1a0d3502"
    }
   }
  }
 },
 "nbformat": 4,
 "nbformat_minor": 2,
 "cells": [
  {
   "source": [
    "# Elementary Statistical Analysis and Visualization of Video Game Data"
   ],
   "cell_type": "markdown",
   "metadata": {}
  },
  {
   "source": [
    "### In this notebook I aim to grasp a better understanding of visual analysis in python by cutting my teeth on video game data scraped from the web. First I will scrape data from an online video games database. I will then munge and parse the data for use, and finally visualize several aspects of the data using python code in order to extract a variety of conclusions. While the end conclusions I reach from the data are not the overall goal of this project, I hope to come away with at least a few worthwhile ideas about games I may want to put on my \"to-play\" list."
   ],
   "cell_type": "markdown",
   "metadata": {}
  },
  {
   "source": [
    "## Section 0: Resources and Acknowledgements\n",
    "### I will be consulting a number of websites and textbooks for this project. I will list them below as I use them, both as credit where it's due and to give anyone who may read this a good list of resources should they embark on a similar learning endeavor:\n",
    "\n",
    "1: As always when I need a git refresher: Pro Git by Scott Chacon and Ben Straub - available at https://git-scm.com/book/en/v2\n",
    "\n",
    "2: Twitch IGDB API Documentation - available at https://api-docs.igdb.com/#about\n",
    "\n",
    "  2a: Twitch IGDB API Python Documentation - available at https://github.com/twitchtv/igdb-api-python\n"
   ],
   "cell_type": "markdown",
   "metadata": {}
  },
  {
   "source": [
    "## Section 1: Scraping the Data"
   ],
   "cell_type": "markdown",
   "metadata": {}
  },
  {
   "source": [
    "### I will be using the IGDB.com games database to scrape data for these analyses. The documentation for the IGDB API can be found in Secion 0."
   ],
   "cell_type": "markdown",
   "metadata": {}
  },
  {
   "cell_type": "code",
   "execution_count": 39,
   "metadata": {},
   "outputs": [],
   "source": [
    "#typically I would list all of my imports in one section, but as this is largely a learning exercise I will import packages in the sections at which they become relevant.\n",
    "import numpy as np \n",
    "import pandas as pd \n",
    "from igdb.wrapper import IGDBWrapper\n",
    "import requests\n",
    "import json\n",
    "\n",
    "\n",
    "#read credentials auth.json from project directory - this is user info and is hterefore kept private - auth.json is in .gitignore\n",
    "user_info =  json.loads(open('auth.json').read())\n",
    "user_info['grant_type']='client_credentials'\n",
    "\n",
    "\n",
    "r = requests.post('https://id.twitch.tv/oauth2/token', params=user_info)\n",
    "access_token = json.loads(r._content)['access_token']\n",
    "expires_in = json.loads(r._content)['expires_in']\n",
    "wrapper = IGDBWrapper(user_info['client_id'], access_token)"
   ]
  },
  {
   "cell_type": "code",
   "execution_count": 40,
   "metadata": {},
   "outputs": [],
   "source": [
    "#scape platform data\n",
    "\n",
    "\n",
    "platforms = wrapper.api_request(\n",
    "    'platforms',\n",
    "    'fields *; limit 500;'\n",
    "\n",
    ")\n",
    "\n",
    "platforms = platforms.decode(\"utf-8\")\n",
    "platforms_json = json.loads(platforms)\n",
    "\n",
    "platforms_df = pd.DataFrame(platforms_json)\n",
    "\n",
    "platforms_df.to_csv('./data/platforms.csv')\n",
    "\n",
    "\n",
    "\n"
   ]
  },
  {
   "cell_type": "code",
   "execution_count": 63,
   "metadata": {},
   "outputs": [],
   "source": [
    "genres = wrapper.api_request(\n",
    "    'genres',\n",
    "    'fields *; limit 100;'\n",
    ")\n",
    "\n",
    "genres_json = genres.decode(\"utf-8\")\n",
    "genres_df = pd.DataFrame(json.loads(genres_json))\n",
    "\n",
    "genres_df.to_csv('./data/genres.csv')"
   ]
  },
  {
   "cell_type": "code",
   "execution_count": 42,
   "metadata": {},
   "outputs": [
    {
     "output_type": "stream",
     "name": "stdout",
     "text": [
      "(500, 47)\n"
     ]
    }
   ],
   "source": [
    "#test igdb query limits\n",
    "\n",
    "games = wrapper.api_request(\n",
    "    'games',\n",
    "    'fields *; limit 500;'\n",
    ")\n",
    "\n",
    "games_json = games.decode(\"utf-8\")\n",
    "games_df = pd.DataFrame(json.loads(games_json))\n",
    "\n",
    "print(games_df.shape)"
   ]
  },
  {
   "source": [
    "The IGDB API requires date queries to be in millisecond timestamps. For the purposes of this exploration, I have decided to query the 500 top-rated games for each year based on IGBD user ratings. In the following code blocks, I'll define those date ranges, convert them to millisecond timestamps, and run the relevant queries for each year."
   ],
   "cell_type": "markdown",
   "metadata": {}
  },
  {
   "source": [
    "import time, datetime\n",
    "\n",
    "games_df = pd.DataFrame()\n",
    "\n",
    "startYear = 2000\n",
    "endYear = 2020\n",
    "\n",
    "m = 1\n",
    "d = 1\n",
    "\n",
    "print(time.mktime(datetime.datetime(1985, 1, 1).timetuple()))\n",
    "\n",
    "for y in range(startYear, endYear+1):\n",
    "\n",
    "    year_begin = int(time.mktime(datetime.datetime(y, m, d).timetuple()))\n",
    "    year_end = int(time.mktime(datetime.datetime(y, 1, 31).timetuple()))\n",
    "\n",
    "    print(year_begin, year_end)\n",
    "\n",
    "    q = 'fields *; where first_release_date > ' + str(year_begin) + ' &' + ' first_release_date < ' +  str(year_end) + '; sort rating desc;'\n",
    "    \n",
    "\n",
    "    games = wrapper.api_request(\n",
    "        'games',\n",
    "        q\n",
    "    )\n",
    "\n",
    "    year_games_json = games.decode(\"utf-8\")\n",
    "    year_games_df = pd.DataFrame(json.loads(games_json))\n",
    "\n",
    "    games_df = games_df.append(year_games_df)\n",
    "\n",
    "\n",
    "games_df.to_csv('./data/games.csv')\n",
    "    \n",
    "\n"
   ],
   "cell_type": "code",
   "metadata": {},
   "execution_count": 74,
   "outputs": [
    {
     "output_type": "stream",
     "name": "stdout",
     "text": [
      "473407200.0\n",
      "946706400 949298400\n",
      "978328800 980920800\n",
      "1009864800 1012456800\n",
      "1041400800 1043992800\n",
      "1072936800 1075528800\n",
      "1104559200 1107151200\n",
      "1136095200 1138687200\n",
      "1167631200 1170223200\n",
      "1199167200 1201759200\n",
      "1230789600 1233381600\n",
      "1262325600 1264917600\n",
      "1293861600 1296453600\n",
      "1325397600 1327989600\n",
      "1357020000 1359612000\n",
      "1388556000 1391148000\n",
      "1420092000 1422684000\n",
      "1451628000 1454220000\n",
      "1483250400 1485842400\n",
      "1514786400 1517378400\n",
      "1546322400 1548914400\n",
      "1577858400 1580450400\n"
     ]
    }
   ]
  },
  {
   "cell_type": "code",
   "execution_count": 66,
   "metadata": {},
   "outputs": [
    {
     "output_type": "stream",
     "name": "stdout",
     "text": [
      "b'[\\n  {\\n    \"id\": 70,\\n    \"aggregated_rating\": 92.0,\\n    \"aggregated_rating_count\": 1,\\n    \"category\": 0,\\n    \"cover\": 71,\\n    \"created_at\": 1297900800,\\n    \"external_games\": [\\n      8545,\\n      78221,\\n      154955,\\n      1193716\\n    ],\\n    \"first_release_date\": 825984000,\\n    \"follows\": 2,\\n    \"game_modes\": [\\n      1\\n    ],\\n    \"genres\": [\\n      5,\\n      13,\\n      15\\n    ],\\n    \"involved_companies\": [\\n      709\\n    ],\\n    \"keywords\": [\\n      453,\\n      970,\\n      1025,\\n      1669,\\n      3782,\\n      6351\\n    ],\\n    \"name\": \"Terra Nova: Strike Force Centauri\",\\n    \"platforms\": [\\n      13\\n    ],\\n    \"player_perspectives\": [\\n      1\\n    ],\\n    \"rating\": 70.0,\\n    \"rating_count\": 2,\\n    \"release_dates\": [\\n      544\\n    ],\\n    \"screenshots\": [\\n      84914,\\n      84915,\\n      84916,\\n      84917,\\n      84918\\n    ],\\n    \"similar_games\": [\\n      13200,\\n      16806,\\n      17130,\\n      24620,\\n      25311,\\n      34823,\\n      55038,\\n      68286,\\n      68287\\n    ],\\n    \"slug\": \"terra-nova-strike-force-centauri\",\\n    \"summary\": \"Lead an elite fighting team battling for freedom from the sinister forces of the Earth Hegemony. Engage in combat on the bloody battlefields of four unique worlds. Encased in your Powered Battle Armour (PBA) you are an unstoppable fighting force.\",\\n    \"tags\": [\\n      1,\\n      18,\\n      268435461,\\n      268435469,\\n      268435471,\\n      536871365,\\n      536871882,\\n      536871937,\\n      536872581,\\n      536874694,\\n      536877263\\n    ],\\n    \"themes\": [\\n      1,\\n      18\\n    ],\\n    \"total_rating\": 81.0,\\n    \"total_rating_count\": 3,\\n    \"updated_at\": 1571270400,\\n    \"url\": \"https://www.igdb.com/games/terra-nova-strike-force-centauri\",\\n    \"videos\": [\\n      506\\n    ],\\n    \"websites\": [\\n      23691,\\n      23692,\\n      119708\\n    ],\\n    \"checksum\": \"987b8ba1-56a2-09eb-cf31-cf4dca3eab46\"\\n  },\\n  {\\n    \"id\": 40104,\\n    \"category\": 0,\\n    \"created_at\": 1498435200,\\n    \"external_games\": [\\n      20127,\\n      1988884\\n    ],\\n    \"first_release_date\": 536457600,\\n    \"genres\": [\\n      5\\n    ],\\n    \"name\": \"Dogou Souken\",\\n    \"platforms\": [\\n      52\\n    ],\\n    \"release_dates\": [\\n      91007\\n    ],\\n    \"similar_games\": [\\n      12364,\\n      27270,\\n      43367,\\n      103281,\\n      103292,\\n      103298,\\n      103301,\\n      105049,\\n      106805\\n    ],\\n    \"slug\": \"dogou-souken\",\\n    \"summary\": \"An overhead-view shoot\\\\u0027em up game.\",\\n    \"tags\": [\\n      268435461\\n    ],\\n    \"updated_at\": 1604620800,\\n    \"url\": \"https://www.igdb.com/games/dogou-souken\",\\n    \"checksum\": \"5e7446ff-58d9-e744-f0d3-5e10241304c1\"\\n  },\\n  {\\n    \"id\": 68841,\\n    \"category\": 0,\\n    \"cover\": 97021,\\n    \"created_at\": 1506470400,\\n    \"external_games\": [\\n      185421,\\n      186839,\\n      1905789\\n    ],\\n    \"first_release_date\": 1506988800,\\n    \"game_modes\": [\\n      2\\n    ],\\n    \"genres\": [\\n      15,\\n      16\\n    ],\\n    \"keywords\": [\\n      970,\\n      3171\\n    ],\\n    \"name\": \"Captivus\",\\n    \"platforms\": [\\n      6\\n    ],\\n    \"release_dates\": [\\n      114619\\n    ],\\n    \"screenshots\": [\\n      126622,\\n      126623,\\n      126624,\\n      126625,\\n      126626\\n    ],\\n    \"similar_games\": [\\n      11666,\\n      13200,\\n      13660,\\n      16806,\\n      17130,\\n      24620,\\n      32510,\\n      34823,\\n      102057\\n    ],\\n    \"slug\": \"captivus\",\\n    \"status\": 4,\\n    \"summary\": \"Join the movement! Build a deck, equip your ship, and take on others in intense 1v1 card battles!\",\\n    \"tags\": [\\n      18,\\n      268435471,\\n      268435472,\\n      536871882,\\n      536874083\\n    ],\\n    \"themes\": [\\n      18\\n    ],\\n    \"updated_at\": 1598400000,\\n    \"url\": \"https://www.igdb.com/games/captivus\",\\n    \"websites\": [\\n      58090,\\n      58091\\n    ],\\n    \"checksum\": \"6bf91ba1-b87f-b82c-8da6-e6259410c339\"\\n  },\\n  {\\n    \"id\": 33284,\\n    \"category\": 0,\\n    \"created_at\": 1495670400,\\n    \"external_games\": [\\n      5560,\\n      1947044\\n    ],\\n    \"first_release_date\": 1457740800,\\n    \"game_modes\": [\\n      1\\n    ],\\n    \"genres\": [\\n      32\\n    ],\\n    \"name\": \"One way to exit\",\\n    \"platforms\": [\\n      6\\n    ],\\n    \"release_dates\": [\\n      77755\\n    ],\\n    \"screenshots\": [\\n      58492,\\n      58493,\\n      58494,\\n      58495,\\n      58496\\n    ],\\n    \"similar_games\": [\\n      32902,\\n      37419,\\n      40524,\\n      43367,\\n      105233,\\n      111130,\\n      113895,\\n      119121,\\n      119493\\n    ],\\n    \"slug\": \"one-way-to-exit\",\\n    \"summary\": \"Move forward or backward in search of an exit, but remember, if you started moving you can not stop, and in any case, do not touch the walls, otherwise you have to start all over again.\",\\n    \"tags\": [\\n      1,\\n      268435488\\n    ],\\n    \"themes\": [\\n      1\\n    ],\\n    \"updated_at\": 1604620800,\\n    \"url\": \"https://www.igdb.com/games/one-way-to-exit\",\\n    \"checksum\": \"334d534d-8f5b-3cf8-90b4-240e6daa97fc\"\\n  },\\n  {\\n    \"id\": 74857,\\n    \"category\": 0,\\n    \"cover\": 43615,\\n    \"created_at\": 1508457600,\\n    \"external_games\": [\\n      187849,\\n      191054,\\n      1906499\\n    ],\\n    \"first_release_date\": 1512086400,\\n    \"game_modes\": [\\n      1\\n    ],\\n    \"genres\": [\\n      8,\\n      9,\\n      12,\\n      31,\\n      32\\n    ],\\n    \"keywords\": [\\n      2049,\\n      2875\\n    ],\\n    \"name\": \"Transcend\",\\n    \"platforms\": [\\n      6\\n    ],\\n    \"rating\": 50.0,\\n    \"rating_count\": 0,\\n    \"release_dates\": [\\n      130430\\n    ],\\n    \"screenshots\": [\\n      138187,\\n      138188,\\n      138189,\\n      138190,\\n      138191\\n    ],\\n    \"similar_games\": [\\n      20342,\\n      24426,\\n      28070,\\n      55173,\\n      55190,\\n      56033,\\n      77529,\\n      96217,\\n      116681\\n    ],\\n    \"slug\": \"transcend\",\\n    \"status\": 4,\\n    \"summary\": \"A puzzle platformer in which you transcend life and death to reach your goals.\",\\n    \"tags\": [\\n      1,\\n      268435464,\\n      268435465,\\n      268435468,\\n      268435487,\\n      268435488,\\n      536872961,\\n      536873787\\n    ],\\n    \"themes\": [\\n      1\\n    ],\\n    \"total_rating\": 50.0,\\n    \"total_rating_count\": 0,\\n    \"updated_at\": 1598400000,\\n    \"url\": \"https://www.igdb.com/games/transcend\",\\n    \"websites\": [\\n      63535,\\n      67132\\n    ],\\n    \"checksum\": \"3e80351f-d307-0842-3443-30c943e9af80\"\\n  },\\n  {\\n    \"id\": 58674,\\n    \"alternative_names\": [\\n      26658\\n    ],\\n    \"category\": 0,\\n    \"cover\": 83799,\\n    \"created_at\": 1504656000,\\n    \"external_games\": [\\n      107879,\\n      1904687\\n    ],\\n    \"first_release_date\": 1459987200,\\n    \"involved_companies\": [\\n      86588\\n    ],\\n    \"name\": \"PKTBALL\",\\n    \"platforms\": [\\n      34,\\n      39\\n    ],\\n    \"release_dates\": [\\n      178827,\\n      178828\\n    ],\\n    \"slug\": \"pktball\",\\n    \"summary\": \"A hyper-charged arcade smash sport designed to test your skills and reflexes to the max. Fight your way through the leaderboard and become a PKTBALL master!\",\\n    \"updated_at\": 1598400000,\\n    \"url\": \"https://www.igdb.com/games/pktball\",\\n    \"videos\": [\\n      30914\\n    ],\\n    \"websites\": [\\n      122359,\\n      122360,\\n      122361\\n    ],\\n    \"checksum\": \"089102f9-fbdf-f7c6-6c52-f064f13f3e8b\"\\n  },\\n  {\\n    \"id\": 48468,\\n    \"category\": 0,\\n    \"created_at\": 1499904000,\\n    \"external_games\": [\\n      31291,\\n      1996060\\n    ],\\n    \"first_release_date\": 651456000,\\n    \"genres\": [\\n      14\\n    ],\\n    \"name\": \"Home Run Nighter \\\\u002790: The Pennant League\",\\n    \"platforms\": [\\n      18\\n    ],\\n    \"release_dates\": [\\n      95130\\n    ],\\n    \"similar_games\": [\\n      14733,\\n      109606,\\n      116343,\\n      116349,\\n      116350,\\n      116351,\\n      116352,\\n      116353,\\n      120795\\n    ],\\n    \"slug\": \"home-run-nighter-90-the-pennant-league\",\\n    \"summary\": \"Home Run Night \\\\u002790: The Pennant League is a Sports game, developed and published by Data East, which was released in Japan in 1990.\",\\n    \"tags\": [\\n      268435470\\n    ],\\n    \"updated_at\": 1604620800,\\n    \"url\": \"https://www.igdb.com/games/home-run-nighter-90-the-pennant-league\",\\n    \"checksum\": \"2bbf18fc-a291-a224-88c5-9e579ccbf0a3\"\\n  },\\n  {\\n    \"id\": 78193,\\n    \"age_ratings\": [\\n      20199\\n    ],\\n    \"category\": 0,\\n    \"collection\": 588,\\n    \"cover\": 81698,\\n    \"created_at\": 1513468800,\\n    \"external_games\": [\\n      135902,\\n      1186581\\n    ],\\n    \"first_release_date\": 1041292800,\\n    \"game_modes\": [\\n      1\\n    ],\\n    \"genres\": [\\n      10\\n    ],\\n    \"involved_companies\": [\\n      84767,\\n      84768\\n    ],\\n    \"keywords\": [\\n      735,\\n      1783,\\n      4157,\\n      4287,\\n      4345,\\n      4452,\\n      4465,\\n      4576,\\n      5572,\\n      7633,\\n      8255,\\n      9529,\\n      11213\\n    ],\\n    \"name\": \"Test Drive\",\\n    \"platforms\": [\\n      6,\\n      8,\\n      11\\n    ],\\n    \"player_perspectives\": [\\n      1,\\n      2\\n    ],\\n    \"release_dates\": [\\n      176466,\\n      176467,\\n      176468\\n    ],\\n    \"screenshots\": [\\n      334177,\\n      334178,\\n      334179\\n    ],\\n    \"similar_games\": [\\n      2200,\\n      3772,\\n      27378,\\n      27553,\\n      44178,\\n      49621,\\n      62308,\\n      80382,\\n      120268\\n    ],\\n    \"slug\": \"test-drive--1\",\\n    \"summary\": \"Test Drive is a racing game developed by Pitbull Syndicate. In Test Drive, you play as Dennis Black, a street racer who is contacted by a wheelchair-bound man and hired to race in his place in a series of underground street races known as \\\\\"test drives\\\\\". \\\\n \\\\nThis edition of Test Drive has some improvements over it\\\\u0027s predecessor, Test Drive 6. This time around there is a story driven mode, called \\\\\"The Underground.\\\\\" You take the role of Dennis Black, an independent street racer who improves his standing in the underground street racing world with the help of a mysterious benefactor.\",\\n    \"tags\": [\\n      268435466,\\n      536871647,\\n      536872695,\\n      536875069,\\n      536875199,\\n      536875257,\\n      536875364,\\n      536875377,\\n      536875488,\\n      536876484,\\n      536878545,\\n      536879167,\\n      536880441,\\n      536882125\\n    ],\\n    \"updated_at\": 1578355200,\\n    \"url\": \"https://www.igdb.com/games/test-drive--1\",\\n    \"checksum\": \"4acdde08-ac07-240a-86a3-72fea774caec\"\\n  },\\n  {\\n    \"id\": 63721,\\n    \"category\": 0,\\n    \"cover\": 101320,\\n    \"created_at\": 1505088000,\\n    \"external_games\": [\\n      185096,\\n      1985738\\n    ],\\n    \"first_release_date\": 1505779200,\\n    \"game_modes\": [\\n      1\\n    ],\\n    \"genres\": [\\n      13,\\n      14,\\n      32\\n    ],\\n    \"name\": \"KENDAMVR - Virtual Reality Kendama\",\\n    \"platforms\": [\\n      6\\n    ],\\n    \"release_dates\": [\\n      112980\\n    ],\\n    \"screenshots\": [\\n      124051,\\n      124052,\\n      124053,\\n      124054,\\n      124055\\n    ],\\n    \"similar_games\": [\\n      28277,\\n      37419,\\n      51577,\\n      55888,\\n      65827,\\n      76263,\\n      87975,\\n      114285,\\n      116582\\n    ],\\n    \"slug\": \"kendamvr-virtual-reality-kendama\",\\n    \"summary\": \"KENDAMVR Is the world\\\\u0027s first virtual reality Kendama game!\",\\n    \"tags\": [\\n      268435469,\\n      268435470,\\n      268435488\\n    ],\\n    \"updated_at\": 1604620800,\\n    \"url\": \"https://www.igdb.com/games/kendamvr-virtual-reality-kendama\",\\n    \"websites\": [\\n      56911\\n    ],\\n    \"checksum\": \"f6a0401b-bcb8-39fa-8536-a76bb34ad6ab\"\\n  },\\n  {\\n    \"id\": 138142,\\n    \"category\": 0,\\n    \"cover\": 113663,\\n    \"created_at\": 1598918400,\\n    \"external_games\": [\\n      1959223\\n    ],\\n    \"first_release_date\": 1414713600,\\n    \"game_engines\": [\\n      558\\n    ],\\n    \"game_modes\": [\\n      1\\n    ],\\n    \"involved_companies\": [\\n      107078,\\n      107079\\n    ],\\n    \"keywords\": [\\n      218,\\n      4260\\n    ],\\n    \"name\": \"Lime Ergot\",\\n    \"platforms\": [\\n      3,\\n      6,\\n      14,\\n      82\\n    ],\\n    \"player_perspectives\": [\\n      5\\n    ],\\n    \"release_dates\": [\\n      208843,\\n      208844,\\n      208845,\\n      208846\\n    ],\\n    \"similar_games\": [\\n      58867,\\n      60191,\\n      78096,\\n      79064,\\n      93104,\\n      110737,\\n      138140,\\n      138150,\\n      138854\\n    ],\\n    \"slug\": \"lime-ergot\",\\n    \"summary\": \"The last two officers of a tropical colonial outpost wait for evacuation.\",\\n    \"tags\": [\\n      536871130,\\n      536875172\\n    ],\\n    \"updated_at\": 1604620800,\\n    \"url\": \"https://www.igdb.com/games/lime-ergot\",\\n    \"websites\": [\\n      151358,\\n      151359\\n    ],\\n    \"checksum\": \"c9bab2ad-cb9d-7186-b2da-3cc9c2c8ea63\"\\n  }\\n]'\n"
     ]
    }
   ],
   "source": [
    "games = wrapper.api_request(\n",
    "    'games',\n",
    "    'fields *; where first_release_date < 1538129354;'\n",
    ")\n",
    "\n",
    "print(games)"
   ]
  },
  {
   "cell_type": "code",
   "execution_count": null,
   "metadata": {},
   "outputs": [],
   "source": []
  }
 ]
}
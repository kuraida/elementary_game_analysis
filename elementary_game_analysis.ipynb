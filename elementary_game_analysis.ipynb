{
 "metadata": {
  "language_info": {
   "codemirror_mode": {
    "name": "ipython",
    "version": 3
   },
   "file_extension": ".py",
   "mimetype": "text/x-python",
   "name": "python",
   "nbconvert_exporter": "python",
   "pygments_lexer": "ipython3",
   "version": "3.8.5-final"
  },
  "orig_nbformat": 2,
  "kernelspec": {
   "name": "python3",
   "display_name": "Python 3.8.5 64-bit ('elementary_game_analysis': conda)",
   "metadata": {
    "interpreter": {
     "hash": "479da91ca6187846651a657f79705f7dccf6760f133b67dae14e227c1a0d3502"
    }
   }
  }
 },
 "nbformat": 4,
 "nbformat_minor": 2,
 "cells": [
  {
   "source": [
    "# Elementary Statistical Analysis and Visualization of Video Game Data"
   ],
   "cell_type": "markdown",
   "metadata": {}
  },
  {
   "source": [
    "### In this notebook I aim to grasp a better understanding of visual analysis in python by cutting my teeth on video game data scraped from the web. First I will scrape data from an online video games database. I will then munge and parse the data for use, and finally visualize several aspects of the data using python code in order to extract a variety of conclusions. While the end conclusions I reach from the data are not the overall goal of this project, I hope to come away with at least a few worthwhile ideas about games I may want to put on my \"to-play\" list."
   ],
   "cell_type": "markdown",
   "metadata": {}
  },
  {
   "source": [
    "## Section 0: Resources and Acknowledgements\n",
    "### I will be consulting a number of websites and textbooks for this project. I will list them below as I use them, both as credit where it's due and to give anyone who may read this a good list of resources should they embark on a similar learning endeavor:\n",
    "\n",
    "1: As always when I need a git refresher: Pro Git by Scott Chacon and Ben Straub - available at https://git-scm.com/book/en/v2\n",
    "\n",
    "2: Twitch IGDB API Documentation - available at https://api-docs.igdb.com/#about\n",
    "\n",
    "  2a: Twitch IGDB API Python Documentation - available at https://github.com/twitchtv/igdb-api-python\n"
   ],
   "cell_type": "markdown",
   "metadata": {}
  },
  {
   "source": [
    "## Section 1: Scraping the Data"
   ],
   "cell_type": "markdown",
   "metadata": {}
  },
  {
   "source": [
    "### I will be using the IGDB.com games database to scrape data for these analyses. The documentation for the IGDB API can be found in Secion 0."
   ],
   "cell_type": "markdown",
   "metadata": {}
  },
  {
   "cell_type": "code",
   "execution_count": 4,
   "metadata": {},
   "outputs": [],
   "source": [
    "#typically I would list all of my imports in one section, but as this is largely a learning exercise I will import packages in the sections at which they become relevant.\n",
    "import numpy as np \n",
    "import pandas as pd \n",
    "from igdb.wrapper import IGDBWrapper\n",
    "import requests\n",
    "import json\n",
    "\n",
    "\n",
    "#read credentials auth.json from project directory - this is user info and is hterefore kept private - auth.json is in .gitignore\n",
    "user_info =  json.loads(open('auth.json').read())\n",
    "user_info['grant_type']='client_credentials'\n",
    "\n",
    "\n",
    "r = requests.post('https://id.twitch.tv/oauth2/token', params=user_info)\n",
    "access_token = json.loads(r._content)['access_token']\n",
    "expires_in = json.loads(r._content)['expires_in']\n",
    "wrapper = IGDBWrapper(user_info['client_id'], access_token)"
   ]
  },
  {
   "cell_type": "code",
   "execution_count": 9,
   "metadata": {},
   "outputs": [
    {
     "output_type": "stream",
     "name": "stdout",
     "text": [
      "(171, 16)\n"
     ]
    }
   ],
   "source": [
    "#scape platform data\n",
    "\n",
    "\n",
    "platforms = wrapper.api_request(\n",
    "    'platforms',\n",
    "    'fields *; limit 500;'\n",
    "\n",
    ")\n",
    "\n",
    "platforms = platforms.decode(\"utf-8\")\n",
    "platforms_json = json.loads(platforms)\n",
    "\n",
    "platforms_df = pd.DataFrame(platforms_json)\n",
    "\n",
    "platforms_df\n",
    "print(platforms_df.shape)\n",
    "\n",
    "\n",
    "\n"
   ]
  },
  {
   "cell_type": "code",
   "execution_count": null,
   "metadata": {},
   "outputs": [],
   "source": []
  }
 ]
}
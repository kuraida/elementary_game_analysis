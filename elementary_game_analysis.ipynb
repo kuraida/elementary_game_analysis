{
 "metadata": {
  "language_info": {
   "codemirror_mode": {
    "name": "ipython",
    "version": 3
   },
   "file_extension": ".py",
   "mimetype": "text/x-python",
   "name": "python",
   "nbconvert_exporter": "python",
   "pygments_lexer": "ipython3",
   "version": "3.8.5-final"
  },
  "orig_nbformat": 2,
  "kernelspec": {
   "name": "python3",
   "display_name": "Python 3.8.5 64-bit ('elementary_game_analysis': conda)",
   "metadata": {
    "interpreter": {
     "hash": "479da91ca6187846651a657f79705f7dccf6760f133b67dae14e227c1a0d3502"
    }
   }
  }
 },
 "nbformat": 4,
 "nbformat_minor": 2,
 "cells": [
  {
   "source": [
    "# Elementary Statistical Analysis and Visualization of Video Game Data"
   ],
   "cell_type": "markdown",
   "metadata": {}
  },
  {
   "source": [
    "### In this notebook I aim to grasp a better understanding of visual analysis in python by cutting my teeth on video game data scraped from the web. First I will scrape data from an online video games database. I will then munge and parse the data for use, and finally visualize several aspects of the data using python code in order to extract a variety of conclusions. While the end conclusions I reach from the data are not the overall goal of this project, I hope to come away with at least a few worthwhile ideas about games I may want to put on my \"to-play\" list."
   ],
   "cell_type": "markdown",
   "metadata": {}
  },
  {
   "source": [
    "## Section 0: Resources and Acknowledgements\n",
    "### I will be consulting a number of websites and textbooks for this project. I will list them below as I use them, both as credit where it's due and to give anyone who may read this a good list of resources should they embark on a similar learning endeavor:\n",
    "\n",
    "1: As always when I need a git refresher: Pro Git by Scott Chacon and Ben Straub - available at https://git-scm.com/book/en/v2\n",
    "\n",
    "2: Twitch IGDB API Documentation - available at https://api-docs.igdb.com/#about\n",
    "\n",
    "  2a: Twitch IGDB API Python Documentation - available at https://github.com/twitchtv/igdb-api-python\n"
   ],
   "cell_type": "markdown",
   "metadata": {}
  },
  {
   "source": [
    "## Section 1: Scraping the Data"
   ],
   "cell_type": "markdown",
   "metadata": {}
  },
  {
   "source": [
    "### I will be using the IGDB.com games database to scrape data for these analyses. The documentation for the IGDB API can be found in Secion 0."
   ],
   "cell_type": "markdown",
   "metadata": {}
  },
  {
   "cell_type": "code",
   "execution_count": 16,
   "metadata": {},
   "outputs": [],
   "source": [
    "#typically I would list all of my imports in one section, but as this is largely a learning exercise I will import packages in the sections at which they become relevant.\n",
    "import numpy as np \n",
    "import pandas as pd \n",
    "from igdb.wrapper import IGDBWrapper\n",
    "import requests\n",
    "import json\n",
    "\n",
    "\n",
    "#read credentials auth.json from project directory - this is user info and is hterefore kept private - auth.json is in .gitignore\n",
    "user_info =  json.loads(open('auth.json').read())\n",
    "user_info['grant_type']='client_credentials'\n",
    "\n",
    "\n",
    "r = requests.post('https://id.twitch.tv/oauth2/token', params=user_info)\n",
    "access_token = json.loads(r._content)['access_token']\n",
    "expires_in = json.loads(r._content)['expires_in']\n",
    "wrapper = IGDBWrapper(user_info['client_id'], access_token)"
   ]
  },
  {
   "cell_type": "code",
   "execution_count": 28,
   "metadata": {},
   "outputs": [
    {
     "output_type": "stream",
     "name": "stdout",
     "text": [
      "      id                alternative_name  category  created_at  \\\n0    158  Commodore Dynamic Total Vision       6.0  1510012800   \n1    339              Kids Computer Pico       1.0  1595808000   \n2      8                             PS2       1.0  1297555200   \n3     39                             NaN       4.0  1317686400   \n4     94                             NaN       6.0  1414195200   \n..   ...                             ...       ...         ...   \n166   27                             NaN       6.0  1300147200   \n167  309                             NaN       5.0  1590710400   \n168   59                             NaN       1.0  1372204800   \n169  372                             NaN       3.0  1606521600   \n170  373                            ZX81       6.0  1607024002   \n\n                 name  platform_logo            slug  updated_at  \\\n0      Commodore CDTV          292.0  commodore-cdtv  1522972800   \n1           Sega Pico            NaN       sega-pico  1595808000   \n2       PlayStation 2          254.0             ps2  1414972800   \n3                 iOS          248.0             ios  1391644800   \n4    Commodore Plus/4          310.0        c-plus-4  1468454400   \n..                ...            ...             ...         ...   \n166               MSX          307.0             msx  1468540800   \n167          Evercade          528.0        evercade  1591142400   \n168        Atari 2600          309.0       atari2600  1392076800   \n169           OOParts            NaN         ooparts  1606521600   \n170     Sinclair ZX81            NaN   sinclair-zx81  1607031405   \n\n                                               url   versions websites  \\\n0    https://www.igdb.com/platforms/commodore-cdtv      [223]     [26]   \n1         https://www.igdb.com/platforms/sega-pico      [456]      NaN   \n2               https://www.igdb.com/platforms/ps2  [58, 114]      NaN   \n3               https://www.igdb.com/platforms/ios       [43]      NaN   \n4          https://www.igdb.com/platforms/c-plus-4      [108]      NaN   \n..                                             ...        ...      ...   \n166             https://www.igdb.com/platforms/msx       [47]      NaN   \n167        https://www.igdb.com/platforms/evercade      [426]    [207]   \n168       https://www.igdb.com/platforms/atari2600       [24]      NaN   \n169         https://www.igdb.com/platforms/ooparts      [490]    [271]   \n170   https://www.igdb.com/platforms/sinclair-zx81      [491]      NaN   \n\n                                 checksum  generation  platform_family  \\\n0    5d48648e-283c-e2df-df7d-6d3cbc7e0a58         NaN              NaN   \n1    6e867a5b-a071-fc7b-945b-a0622f64a4bc         4.0              3.0   \n2    be3e025c-d4ed-b795-443c-a8cb55fbfe17         6.0              1.0   \n3    fefe4a2b-7c90-0e89-e811-902ea1cf2b58         NaN              NaN   \n4    ea138789-6bbe-bcca-dff5-7e20e762f65a         NaN              NaN   \n..                                    ...         ...              ...   \n166  7954204a-0502-4940-48c1-d525148f76fd         NaN              NaN   \n167  12fbb7c4-acc5-fa90-2a02-6de3810375a7         8.0              NaN   \n168  cd1b72f5-0b7c-669f-a50e-2729293c3703         2.0              NaN   \n169  f9404506-a3f2-b59b-238c-4707efe0d428         NaN              NaN   \n170  d0da431e-930b-56d8-74fa-c4c6a2e10e07         NaN              NaN   \n\n    abbreviation summary  \n0            NaN     NaN  \n1            NaN     NaN  \n2            PS2     NaN  \n3            iOS     NaN  \n4            C+4     NaN  \n..           ...     ...  \n166          MSX     NaN  \n167          NaN     NaN  \n168    Atari2600     NaN  \n169          NaN     NaN  \n170          NaN     NaN  \n\n[171 rows x 16 columns]\n"
     ]
    }
   ],
   "source": [
    "#scape platform data\n",
    "\n",
    "\n",
    "platforms = wrapper.api_request(\n",
    "    'platforms',\n",
    "    'fields *; limit 500;'\n",
    "\n",
    ")\n",
    "\n",
    "platforms = platforms.decode(\"utf-8\")\n",
    "platforms_json = json.loads(platforms)\n",
    "\n",
    "platforms_df = pd.DataFrame(platforms_json)\n",
    "\n",
    "platforms_df\n",
    "print(platforms_df)\n",
    "\n",
    "\n",
    "\n"
   ]
  },
  {
   "cell_type": "code",
   "execution_count": 30,
   "metadata": {},
   "outputs": [
    {
     "output_type": "stream",
     "name": "stdout",
     "text": [
      "    id  created_at                        name                       slug  \\\n0    4  1297555200                    Fighting                   fighting   \n1    5  1297555200                     Shooter                    shooter   \n2    7  1297555200                       Music                      music   \n3    8  1297555200                    Platform                   platform   \n4    9  1297555200                      Puzzle                     puzzle   \n5   10  1297555200                      Racing                     racing   \n6   11  1297555200    Real Time Strategy (RTS)     real-time-strategy-rts   \n7   12  1297555200          Role-playing (RPG)           role-playing-rpg   \n8   13  1297555200                   Simulator                  simulator   \n9   14  1297555200                       Sport                      sport   \n10  15  1297555200                    Strategy                   strategy   \n11  16  1297641600   Turn-based strategy (TBS)    turn-based-strategy-tbs   \n12  24  1300924800                    Tactical                   tactical   \n13  26  1301961600                 Quiz/Trivia                quiz-trivia   \n14  25  1301616000  Hack and slash/Beat 'em up  hack-and-slash-beat-em-up   \n15  30  1320192000                     Pinball                    pinball   \n16  31  1323561600                   Adventure                  adventure   \n17  33  1380931200                      Arcade                     arcade   \n18  34  1571788800                Visual Novel               visual-novel   \n19  32  1341360000                       Indie                      indie   \n20  35  1588809600           Card & Board Game        card-and-board-game   \n21  36  1588809600                        MOBA                       moba   \n22   2  1297555200             Point-and-click            point-and-click   \n\n    updated_at                                                url  \\\n0   1323216000               https://www.igdb.com/genres/fighting   \n1   1323216000                https://www.igdb.com/genres/shooter   \n2   1323216000                  https://www.igdb.com/genres/music   \n3   1323216000               https://www.igdb.com/genres/platform   \n4   1323216000                 https://www.igdb.com/genres/puzzle   \n5   1323216000                 https://www.igdb.com/genres/racing   \n6   1323216000  https://www.igdb.com/genres/real-time-strategy...   \n7   1323216000       https://www.igdb.com/genres/role-playing-rpg   \n8   1323216000              https://www.igdb.com/genres/simulator   \n9   1323216000                  https://www.igdb.com/genres/sport   \n10  1323216000               https://www.igdb.com/genres/strategy   \n11  1323216000  https://www.igdb.com/genres/turn-based-strateg...   \n12  1323216000               https://www.igdb.com/genres/tactical   \n13  1323216000            https://www.igdb.com/genres/quiz-trivia   \n14  1323216000  https://www.igdb.com/genres/hack-and-slash-bea...   \n15  1323216000                https://www.igdb.com/genres/pinball   \n16  1323561600              https://www.igdb.com/genres/adventure   \n17  1380931200                 https://www.igdb.com/genres/arcade   \n18  1571788800           https://www.igdb.com/genres/visual-novel   \n19  1341360000                  https://www.igdb.com/genres/indie   \n20  1588809600    https://www.igdb.com/genres/card-and-board-game   \n21  1588809600                   https://www.igdb.com/genres/moba   \n22  1323302400        https://www.igdb.com/genres/point-and-click   \n\n                                checksum  \n0   2ccc6572-bdde-6ed4-8843-25447ea40782  \n1   bb15fd3f-0f46-e5f3-2b40-d046cf9bd2ef  \n2   22d44a0d-89c7-580f-eef2-e06f178fdd47  \n3   697fc5a4-b96f-a803-288a-498bd5dd1de1  \n4   616de9c3-8a00-0232-9df9-00014cfac51b  \n5   73c2653f-54d8-c1bd-d523-dd57fb753194  \n6   aaa36cbc-2258-8653-a461-1358df8ce445  \n7   42dea3b2-7fe2-e734-91cd-f80ce62a14c3  \n8   9779772a-f08f-9e8e-bd26-70c9eecc34e8  \n9   e598c458-3e21-7a14-50a5-ea53733ab22f  \n10  d7863f95-0f2c-0f2d-c1e9-29d06eaf3396  \n11  af5d3ecd-2ebd-358b-70df-e9204b9761be  \n12  6132b15f-289e-60ea-5957-7c78b97053a2  \n13  256a99dd-dd06-bc0c-d53b-dc3098da4d49  \n14  4bd95a5d-8fa1-1aee-4ea9-224b4b1312f7  \n15  b5657d72-ee36-0851-58df-e8d2413283f8  \n16  a6d85192-8d11-bad3-cc5c-dd89e2f94a47  \n17  388cec36-d099-f4a1-31c3-f938fae9067b  \n18  137fe5c7-e4bc-1c30-4c7c-54596b47448f  \n19  2522259f-2454-ec02-5dc0-84373e0508ed  \n20  137bcfbe-be08-0b36-b66e-1bfef14ca49a  \n21  0f17b3a1-6d97-4c02-0997-850adf4dc624  \n22  ef2ff68a-f7bd-d2d0-76cb-c830bd6e3191   (23, 7)\n"
     ]
    }
   ],
   "source": [
    "genres = wrapper.api_request(\n",
    "    'genres',\n",
    "    'fields *; limit 100;'\n",
    ")\n",
    "\n",
    "genres_json = genres.decode(\"utf-8\")\n",
    "genres_df = pd.DataFrame(json.loads(genres_json))\n",
    "\n",
    "print(genres_df, genres_df.shape)"
   ]
  },
  {
   "cell_type": "code",
   "execution_count": 40,
   "metadata": {},
   "outputs": [
    {
     "output_type": "stream",
     "name": "stdout",
     "text": [
      "(500, 47)\n"
     ]
    }
   ],
   "source": [
    "#test igdb query limits\n",
    "\n",
    "games = wrapper.api_request(\n",
    "    'games',\n",
    "    'fields *; limit 500;'\n",
    ")\n",
    "\n",
    "games_json = games.decode(\"utf-8\")\n",
    "games_df = pd.DataFrame(json.loads(games_json))\n",
    "\n",
    "print(games_df.shape)"
   ]
  },
  {
   "cell_type": "code",
   "execution_count": null,
   "metadata": {},
   "outputs": [],
   "source": []
  }
 ]
}
{
 "metadata": {
  "language_info": {
   "codemirror_mode": {
    "name": "ipython",
    "version": 3
   },
   "file_extension": ".py",
   "mimetype": "text/x-python",
   "name": "python",
   "nbconvert_exporter": "python",
   "pygments_lexer": "ipython3",
   "version": "3.8.5-final"
  },
  "orig_nbformat": 2,
  "kernelspec": {
   "name": "python3",
   "display_name": "Python 3.8.5 64-bit ('elementary_game_analysis': conda)",
   "metadata": {
    "interpreter": {
     "hash": "479da91ca6187846651a657f79705f7dccf6760f133b67dae14e227c1a0d3502"
    }
   }
  }
 },
 "nbformat": 4,
 "nbformat_minor": 2,
 "cells": [
  {
   "source": [
    "# Elementary Statistical Analysis and Visualization of Video Game Data"
   ],
   "cell_type": "markdown",
   "metadata": {}
  },
  {
   "source": [
    "#### In this notebook I aim to grasp a better understanding of visual analysis in python by cutting my teeth on video game data scraped from the web. First I will scrape data from an online video games database. I will then munge and parse the data for use, and finally visualize several aspects of the data using python code in order to extract a variety of conclusions. While the end conclusions I reach from the data are not the overall goal of this project, I hope to come away with at least a few worthwhile ideas about games I may want to put on my \"to-play\" list."
   ],
   "cell_type": "markdown",
   "metadata": {}
  },
  {
   "source": [
    "## Section 0: Resources and Acknowledgements\n",
    "#### I will be consulting a number of websites and textbooks for this project. I will list them below as I use them, both as credit where it's due and to give anyone who may read this a good list of resources should they embark on a similar learning endeavor:\n",
    "\n",
    "1: As always when I need a git refresher: Pro Git by Scott Chacon and Ben Straub - available at https://git-scm.com/book/en/v2\n",
    "\n",
    "2: Twitch GiantBomb API Documentation - available at https://www.giantbomb.com/api/\n",
    "\n"
   ],
   "cell_type": "markdown",
   "metadata": {}
  },
  {
   "source": [
    "## Section 1: Querying the Data"
   ],
   "cell_type": "markdown",
   "metadata": {}
  },
  {
   "source": [
    "### I will be using the GiantBomb.com games database to query data for these analyses. The documentation for the GiantBomb API can be found in Secion 0."
   ],
   "cell_type": "markdown",
   "metadata": {}
  },
  {
   "cell_type": "code",
   "execution_count": 3,
   "metadata": {},
   "outputs": [
    {
     "output_type": "execute_result",
     "data": {
      "text/plain": [
       "  error  limit  offset  number_of_page_results  number_of_total_results  \\\n",
       "0    OK      5       0                       5                    76011   \n",
       "1    OK      5       0                       5                    76011   \n",
       "2    OK      5       0                       5                    76011   \n",
       "3    OK      5       0                       5                    76011   \n",
       "4    OK      5       0                       5                    76011   \n",
       "\n",
       "   status_code                                            results version  \n",
       "0            1  {'name': 'Desert Strike: Return to the Gulf', ...     1.0  \n",
       "1            1  {'name': 'Breakfree', 'original_release_date':...     1.0  \n",
       "2            1  {'name': 'Hyperballoid Deluxe: Survival Pack',...     1.0  \n",
       "3            1  {'name': 'The Chessmaster 2000', 'original_rel...     1.0  \n",
       "4            1  {'name': 'Bass Avenger', 'original_release_dat...     1.0  "
      ],
      "text/html": "<div>\n<style scoped>\n    .dataframe tbody tr th:only-of-type {\n        vertical-align: middle;\n    }\n\n    .dataframe tbody tr th {\n        vertical-align: top;\n    }\n\n    .dataframe thead th {\n        text-align: right;\n    }\n</style>\n<table border=\"1\" class=\"dataframe\">\n  <thead>\n    <tr style=\"text-align: right;\">\n      <th></th>\n      <th>error</th>\n      <th>limit</th>\n      <th>offset</th>\n      <th>number_of_page_results</th>\n      <th>number_of_total_results</th>\n      <th>status_code</th>\n      <th>results</th>\n      <th>version</th>\n    </tr>\n  </thead>\n  <tbody>\n    <tr>\n      <th>0</th>\n      <td>OK</td>\n      <td>5</td>\n      <td>0</td>\n      <td>5</td>\n      <td>76011</td>\n      <td>1</td>\n      <td>{'name': 'Desert Strike: Return to the Gulf', ...</td>\n      <td>1.0</td>\n    </tr>\n    <tr>\n      <th>1</th>\n      <td>OK</td>\n      <td>5</td>\n      <td>0</td>\n      <td>5</td>\n      <td>76011</td>\n      <td>1</td>\n      <td>{'name': 'Breakfree', 'original_release_date':...</td>\n      <td>1.0</td>\n    </tr>\n    <tr>\n      <th>2</th>\n      <td>OK</td>\n      <td>5</td>\n      <td>0</td>\n      <td>5</td>\n      <td>76011</td>\n      <td>1</td>\n      <td>{'name': 'Hyperballoid Deluxe: Survival Pack',...</td>\n      <td>1.0</td>\n    </tr>\n    <tr>\n      <th>3</th>\n      <td>OK</td>\n      <td>5</td>\n      <td>0</td>\n      <td>5</td>\n      <td>76011</td>\n      <td>1</td>\n      <td>{'name': 'The Chessmaster 2000', 'original_rel...</td>\n      <td>1.0</td>\n    </tr>\n    <tr>\n      <th>4</th>\n      <td>OK</td>\n      <td>5</td>\n      <td>0</td>\n      <td>5</td>\n      <td>76011</td>\n      <td>1</td>\n      <td>{'name': 'Bass Avenger', 'original_release_dat...</td>\n      <td>1.0</td>\n    </tr>\n  </tbody>\n</table>\n</div>"
     },
     "metadata": {},
     "execution_count": 3
    }
   ],
   "source": [
    "#typically I would list all of my imports in one section, but as this is largely a learning exercise I will import packages in the sections at which they become relevant.\n",
    "import numpy as np \n",
    "import pandas as pd \n",
    "import requests\n",
    "import json\n",
    "\n",
    "\n",
    "#read credentials auth.json from project directory - this is user info and is therefore kept private - auth.json is in .gitignore\n",
    "user_info = json.loads(open('./auth.json').read())\n",
    "\n",
    "headers = {'user-agent':user_info['user-agent']} #giant bomb api rejects requests without a unique user-agent\n",
    "\n",
    "#define query parameters\n",
    "payload = {\n",
    "    'api_key':user_info['api_key'],\n",
    "    'format':'json',\n",
    "    'field_list':'name,original_release_date',\n",
    "    'sort':'',\n",
    "    'filter':'',\n",
    "    'limit':'5'\n",
    "\n",
    "}\n",
    "\n",
    "\n",
    "r = requests.get('https://www.giantbomb.com/api/games/', headers=headers, params=payload)\n",
    "\n",
    "\n",
    "data = json.loads(r.text)\n",
    "games_df = pd.DataFrame(data)\n",
    "\n",
    "games_df\n",
    "\n",
    "\n",
    "\n",
    "\n"
   ]
  },
  {
   "cell_type": "code",
   "execution_count": 4,
   "metadata": {},
   "outputs": [
    {
     "output_type": "stream",
     "name": "stdout",
     "text": [
      "{'name': 'Desert Strike: Return to the Gulf', 'original_release_date': '1992-01-01'}\n"
     ]
    }
   ],
   "source": [
    "print(games_df['results'][0])"
   ]
  },
  {
   "cell_type": "code",
   "execution_count": null,
   "metadata": {},
   "outputs": [],
   "source": []
  }
 ]
}